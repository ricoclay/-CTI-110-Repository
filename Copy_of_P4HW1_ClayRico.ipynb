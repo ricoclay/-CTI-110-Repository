{
  "nbformat": 4,
  "nbformat_minor": 0,
  "metadata": {
    "colab": {
      "provenance": [],
      "authorship_tag": "ABX9TyM8dW0YC6ydlGFLgz9B0I3n",
      "include_colab_link": true
    },
    "kernelspec": {
      "name": "python3",
      "display_name": "Python 3"
    },
    "language_info": {
      "name": "python"
    }
  },
  "cells": [
    {
      "cell_type": "markdown",
      "metadata": {
        "id": "view-in-github",
        "colab_type": "text"
      },
      "source": [
        "<a href=\"https://colab.research.google.com/github/ricoclay/-CTI-110-Repository/blob/main/Copy_of_P4HW1_ClayRico.ipynb\" target=\"_parent\"><img src=\"https://colab.research.google.com/assets/colab-badge.svg\" alt=\"Open In Colab\"/></a>"
      ]
    },
    {
      "cell_type": "code",
      "execution_count": null,
      "metadata": {
        "id": "C9G5g4eKtGTF"
      },
      "outputs": [],
      "source": [
        "# Rico Clay\n",
        "# 02/24/2025\n",
        "# P4HW1\n",
        "# Assignment assess student ability to edit and enhance exiting programs\n",
        "\n",
        "\n",
        "# Ask user to enter for number of scores they would like to enter.\n",
        "# Create a loop to collect the number of scores the user wants to enter.\n",
        "# Note every time a score is entered, the following should be done\n",
        "# Evaluate if the score is valid, it should be between 0 and 100 .\n",
        "# If it is not, notify the user and ask for a VALID score to be entered.\n",
        "# Think of using another loop\n",
        "# If score is valid, add the score to a list. Make sure the score list is given an informative name.\n",
        "# After collecting all the scores. The program is to display the following:\n",
        "# Lowest score entered\n",
        "# Score List after dropping lowest score\n",
        "# The average of scores in modified list\n",
        "# Determine the letter grade for the calculated average and display it to user.\n",
        "\n",
        "\n",
        "num_scores = int(input(\"How many scores do you want to enter? \"))\n",
        "\n",
        "scores = []\n",
        "for i in range(num_scores):\n",
        "   while True:\n",
        "       try:\n",
        "           score = float(input(f\"Enter score #{i+1} : \"))\n",
        "           if 0 <= score <= 100:\n",
        "               scores.append(score)\n",
        "               break\n",
        "           else:\n",
        "               print()\n",
        "               print(\"INVALID Score entered!!!\")\n",
        "               print('Score should be between 0 and 100')\n",
        "       except ValueError:\n",
        "           print(\"Invalid input. Please enter a numerical value.\")\n",
        "\n",
        "lowest_score = min(scores)\n",
        "modified_scores = scores[1:]  # Create a new list without the lowest score\n",
        "\n",
        "total_score = 0\n",
        "for score in modified_scores:\n",
        "   total_score += score\n",
        "\n",
        "average = total_score / len(modified_scores)\n",
        "\n",
        "if average >= 90:\n",
        "   letter_grade = \"A\"\n",
        "elif average >= 80:\n",
        "   letter_grade = \"B\"\n",
        "elif average >= 70:\n",
        "   letter_grade = \"C\"\n",
        "elif average >= 60:\n",
        "   letter_grade = \"D\"\n",
        "else:\n",
        "   letter_grade = \"F\"\n",
        "\n",
        "print(\"\\n--------------Results-------------\")\n",
        "print(f\"{'Lowest Score  :':<15} {lowest_score:.2f}\")\n",
        "print(f\"{'Modified List :':<15} {modified_scores}\")\n",
        "print(f\"{'Scores Average:':<15} {average:.2f}\")\n",
        "print(f\"{'Grade         :':<15} {letter_grade}\")\n",
        "print(\"------------------------------------\")"
      ]
    }
  ]
}