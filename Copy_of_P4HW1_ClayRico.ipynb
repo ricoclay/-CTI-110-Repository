{
  "nbformat": 4,
  "nbformat_minor": 0,
  "metadata": {
    "colab": {
      "provenance": [],
      "authorship_tag": "ABX9TyPOh8QIr27oXl7X4NX12IGo",
      "include_colab_link": true
    },
    "kernelspec": {
      "name": "python3",
      "display_name": "Python 3"
    },
    "language_info": {
      "name": "python"
    }
  },
  "cells": [
    {
      "cell_type": "markdown",
      "metadata": {
        "id": "view-in-github",
        "colab_type": "text"
      },
      "source": [
        "<a href=\"https://colab.research.google.com/github/ricoclay/-CTI-110-Repository/blob/main/Copy_of_P4HW1_ClayRico.ipynb\" target=\"_parent\"><img src=\"https://colab.research.google.com/assets/colab-badge.svg\" alt=\"Open In Colab\"/></a>"
      ]
    },
    {
      "cell_type": "code",
      "execution_count": null,
      "metadata": {
        "colab": {
          "base_uri": "https://localhost:8080/"
        },
        "id": "8J6_dtXOsjy4",
        "outputId": "6ae9c50d-b6d8-4cee-d8b6-1dc4cdaad2a3"
      },
      "outputs": [
        {
          "output_type": "stream",
          "name": "stdout",
          "text": [
            "How many scores do you want to enter? 5\n",
            "\n",
            "Enter score #1: 67\n",
            "Enter score #2: 75\n",
            "Enter score #3: -1\n",
            "\n",
            "INVALID Score entered!!!!\n",
            "Score should be between 0 and 100\n",
            "Enter score #3: 86\n",
            "Enter score #4: 45\n",
            "Enter score #5: 90\n",
            "\n",
            "\n",
            "--------------Results-----------\n",
            "Lowest Score  : 45.0\n",
            "Modified List : [67.0, 75.0, 86.0, 90.0]\n",
            "Scores Average:  79.50\n",
            "Grade         : C\n",
            "-----------------------------------\n"
          ]
        }
      ],
      "source": [
        "# # Rico Clay\n",
        "# P4HW1\n",
        "# 03-05-2025\n",
        "\n",
        "# Have user give a series of scores\n",
        "# Program collects scores entered and determines if valid\n",
        "# Program add scores to a list\n",
        "# Program determine lowest score\n",
        "# Program drop lowest score\n",
        "# Program calculates average score\n",
        "# Print Lowest score, Modified list, Scores Average and Grade\n",
        "\n",
        "num_scores=int(input('How many scores do you want to enter? '))\n",
        "print()\n",
        "i = 1\n",
        "total_score=[]\n",
        "\n",
        "\n",
        "while i<=num_scores:\n",
        "    print('Enter score #{}: '.format(i), end= '')\n",
        "    score = float(input())\n",
        "\n",
        "    if score<0 or score>100:\n",
        "        print()\n",
        "        print('INVALID Score entered!!!!')\n",
        "        print('Score should be between 0 and 100')\n",
        "\n",
        "    else:\n",
        "        total_score.append(score)\n",
        "        i+=1\n",
        "\n",
        "lowest_score = min(total_score)\n",
        "total_score.remove(lowest_score)\n",
        "score_avg=sum(total_score)/len(total_score)\n",
        "\n",
        "if score_avg>=90:\n",
        "    grade = 'A'\n",
        "\n",
        "elif score_avg>=80:\n",
        "    grade = 'B'\n",
        "\n",
        "elif score_avg>=70:\n",
        "    grade = 'C'\n",
        "\n",
        "else:\n",
        "    grade = 'F'\n",
        "\n",
        "print()\n",
        "print()\n",
        "\n",
        "print('--------------Results-----------')\n",
        "print('Lowest Score  :',lowest_score)\n",
        "print('Modified List :',total_score)\n",
        "print('Scores Average:',f'{score_avg: .2f}')\n",
        "print('Grade         :',grade)\n",
        "print('-----------------------------------')"
      ]
    }
  ]
}