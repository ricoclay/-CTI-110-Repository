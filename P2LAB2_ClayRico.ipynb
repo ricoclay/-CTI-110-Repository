{
  "nbformat": 4,
  "nbformat_minor": 0,
  "metadata": {
    "colab": {
      "provenance": [],
      "authorship_tag": "ABX9TyPvz1GAKIHa+sAKXl7nKxJ+",
      "include_colab_link": true
    },
    "kernelspec": {
      "name": "python3",
      "display_name": "Python 3"
    },
    "language_info": {
      "name": "python"
    }
  },
  "cells": [
    {
      "cell_type": "markdown",
      "metadata": {
        "id": "view-in-github",
        "colab_type": "text"
      },
      "source": [
        "<a href=\"https://colab.research.google.com/github/ricoclay/-CTI-110-Repository/blob/main/P2LAB2_ClayRico.ipynb\" target=\"_parent\"><img src=\"https://colab.research.google.com/assets/colab-badge.svg\" alt=\"Open In Colab\"/></a>"
      ]
    },
    {
      "cell_type": "code",
      "execution_count": null,
      "metadata": {
        "id": "6bT9mdvy4yuH"
      },
      "outputs": [],
      "source": [
        "# Rico Clay\n",
        "# 02/12/2025\n",
        "# P2LAB2\n",
        "# Creating a dictionary and allowing the user to pick from it to gather information\n",
        "\n",
        "\n",
        "# Creating a dictionary using key:value pairs\n",
        "cars = {\"Camaro\":18.21, \"Prius\":52.36, \"Model S\":110, \"Silverado\":26, \"Mustang\":26}\n",
        "\n",
        "print(cars.keys(), \"\\n\")\n",
        "\n",
        "# User Selects the vehicle they want to see the mpg for and printing it out\n",
        "userChoice = input(f\"Select a vehicle to see its mpg: \")\n",
        "print()\n",
        "\n",
        "print(f\"The\", userChoice, \"gets\", cars[userChoice], \"mpg\")\n",
        "print()\n",
        "\n",
        "# Gathering how many miles the user wants to drive\n",
        "\n",
        "miles = int(input(f\"How many miles will you drive the {userChoice}? \"))\n",
        "\n",
        "# Calulating the amount of gas needed\n",
        "\n",
        "print()\n",
        "print(f\"{miles/cars[userChoice]:.2f} gallon(s) of gas are needed to drive the {userChoice} {miles} miles.\")"
      ]
    }
  ]
}