{
  "nbformat": 4,
  "nbformat_minor": 0,
  "metadata": {
    "colab": {
      "provenance": [],
      "authorship_tag": "ABX9TyOTq1k7c2nbV1bGHaIKeT2l",
      "include_colab_link": true
    },
    "kernelspec": {
      "name": "python3",
      "display_name": "Python 3"
    },
    "language_info": {
      "name": "python"
    }
  },
  "cells": [
    {
      "cell_type": "markdown",
      "metadata": {
        "id": "view-in-github",
        "colab_type": "text"
      },
      "source": [
        "<a href=\"https://colab.research.google.com/github/ricoclay/-CTI-110-Repository/blob/main/P1LAB1_ClayRico_pynb.ipynb\" target=\"_parent\"><img src=\"https://colab.research.google.com/assets/colab-badge.svg\" alt=\"Open In Colab\"/></a>"
      ]
    },
    {
      "cell_type": "code",
      "execution_count": null,
      "metadata": {
        "id": "QqG_I1PE8_7p"
      },
      "outputs": [],
      "source": []
    },
    {
      "cell_type": "code",
      "execution_count": null,
      "metadata": {
        "colab": {
          "base_uri": "https://localhost:8080/"
        },
        "outputId": "370ff57e-17f7-4d7e-b192-46f75e8a3834",
        "id": "AN3R27PgugYU"
      },
      "outputs": [
        {
          "output_type": "stream",
          "name": "stdout",
          "text": [
            "Enter your first name: w\n",
            "Enter your last name: \n",
            "Hello, w ! Welcome to CTI-110\n"
          ]
        }
      ],
      "source": [
        "#Rico Clay\n",
        "# 2/5/2025\n",
        "# P1lab1\n",
        "# Using input and print functions\n",
        "\n",
        "# Get infor from user\n",
        "f_name = input(\"Enter your first name: \")\n",
        "l_name = input(\"Enter your last name: \")\n",
        "\n",
        "# Display greeting to user\n",
        "\n",
        "print(\"Hello,\", f_name, l_name + \"!\", \"Welcome to CTI-110\")\n",
        "\n"
      ]
    }
  ]
}