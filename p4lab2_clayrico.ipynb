{
  "nbformat": 4,
  "nbformat_minor": 0,
  "metadata": {
    "colab": {
      "provenance": [],
      "authorship_tag": "ABX9TyOKENbb9VcjzRmRghKhj9H5",
      "include_colab_link": true
    },
    "kernelspec": {
      "name": "python3",
      "display_name": "Python 3"
    },
    "language_info": {
      "name": "python"
    }
  },
  "cells": [
    {
      "cell_type": "markdown",
      "metadata": {
        "id": "view-in-github",
        "colab_type": "text"
      },
      "source": [
        "<a href=\"https://colab.research.google.com/github/ricoclay/-CTI-110-Repository/blob/main/p4lab2_clayrico.ipynb\" target=\"_parent\"><img src=\"https://colab.research.google.com/assets/colab-badge.svg\" alt=\"Open In Colab\"/></a>"
      ]
    },
    {
      "cell_type": "code",
      "execution_count": null,
      "metadata": {
        "colab": {
          "base_uri": "https://localhost:8080/"
        },
        "id": "7z6V5xs7uar1",
        "outputId": "fd128d7c-1246-4831-f49b-733ed6ee8f20"
      },
      "outputs": [
        {
          "output_type": "stream",
          "name": "stdout",
          "text": [
            "Enter an integer: -4\n",
            "This program does not handle negatives values\n",
            "Would you like to run the program again? 4\n",
            "Enter an integer: 4\n",
            "4 * 1 = 4\n",
            "4 * 2 = 8\n",
            "4 * 3 = 12\n",
            "4 * 4 = 16\n",
            "4 * 5 = 20\n",
            "4 * 6 = 24\n",
            "4 * 7 = 28\n",
            "4 * 8 = 32\n",
            "4 * 9 = 36\n",
            "4 * 10 = 40\n",
            "4 * 11 = 44\n",
            "4 * 12 = 48\n",
            "Would you like to run the program again? no\n",
            "Exiting program....\n"
          ]
        }
      ],
      "source": [
        "# Rico Clay\n",
        "# 03/17/2025\n",
        "# P4LAB2\n",
        "# Write a program that ask the user to enter an integer\n",
        "# Progam Running with positive integer input\n",
        "\n",
        "run_again = 'yes'\n",
        "\n",
        "while run_again != \"no\":\n",
        "\n",
        "    user_num = int(input(\"Enter an integer: \"))\n",
        "\n",
        "    if user_num >= 0:\n",
        "        for item in range(1, 13):\n",
        "            print(f\"{user_num} * {item} = {user_num * item}\")\n",
        "\n",
        "    else:\n",
        "         print(\"This program does not handle negatives values\")\n",
        "\n",
        "    run_again = input(\"Would you like to run the program again? \")\n",
        "print(\"Exiting program....\")"
      ]
    }
  ]
}