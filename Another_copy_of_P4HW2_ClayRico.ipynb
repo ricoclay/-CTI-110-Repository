{
  "nbformat": 4,
  "nbformat_minor": 0,
  "metadata": {
    "colab": {
      "provenance": [],
      "authorship_tag": "ABX9TyPrzMGIwvn5yQghH1LWdj93",
      "include_colab_link": true
    },
    "kernelspec": {
      "name": "python3",
      "display_name": "Python 3"
    },
    "language_info": {
      "name": "python"
    }
  },
  "cells": [
    {
      "cell_type": "markdown",
      "metadata": {
        "id": "view-in-github",
        "colab_type": "text"
      },
      "source": [
        "<a href=\"https://colab.research.google.com/github/ricoclay/-CTI-110-Repository/blob/main/Another_copy_of_P4HW2_ClayRico.ipynb\" target=\"_parent\"><img src=\"https://colab.research.google.com/assets/colab-badge.svg\" alt=\"Open In Colab\"/></a>"
      ]
    },
    {
      "cell_type": "code",
      "execution_count": null,
      "metadata": {
        "colab": {
          "base_uri": "https://localhost:8080/"
        },
        "id": "4F9E-6adohe9",
        "outputId": "6d5310ab-1fbf-45a6-b10c-dbedc053ca72"
      },
      "outputs": [
        {
          "output_type": "stream",
          "name": "stdout",
          "text": [
            "Enter the employee's name (enter 'Done' to finish): Nancy Drew\n",
            "Enter number of hours worked? 39\n",
            "Enter the employee's pay rate? 20\n",
            "-------------------------------------\n",
            "Employee name:  Nancy Drew \n",
            "\n",
            "Hours Worked   Pay Rate    OverTime    OverTime Pay        RegHour Pay         Gross Pay\n",
            "----------------------------------------------------------------------------------------------------\n",
            "39.0           20.0        0           0.00                $780.00              $780.00\n",
            "----------------------------------------------------------------------------------------------------\n",
            "Enter the employee's name (enter 'Done' to finish): Rick Hardy\n",
            "Enter number of hours worked? 45\n",
            "Enter the employee's pay rate? 18.5\n",
            "-------------------------------------\n",
            "Employee name:  Rick Hardy \n",
            "\n",
            "Hours Worked   Pay Rate    OverTime    OverTime Pay        RegHour Pay         Gross Pay\n",
            "----------------------------------------------------------------------------------------------------\n",
            "45.0           18.5        5.0         138.75              $740.00              $878.75\n",
            "----------------------------------------------------------------------------------------------------\n",
            "Enter the employee's name (enter 'Done' to finish): Done\n",
            "Number of employees: 2\n",
            "Total overtime paid: $138.75\n",
            "Total regular pay: $1520.00\n",
            "Total gross pay: $1658.75\n"
          ]
        }
      ],
      "source": [
        "# Rico Clay\n",
        "# 03-05-2025\n",
        "# P4HW2\n",
        "# Description:\n",
        "\n",
        "# This program will calculate an employee's pay\n",
        "\n",
        "# Initialize accumulator variables to 0 before the loop\n",
        "totalOvertime = 0\n",
        "totalRegularPay = 0\n",
        "totalGrossPay = 0\n",
        "employeeCount = 0\n",
        "\n",
        "# Begin loop to input employee data\n",
        "while True:\n",
        "    # Request employee information\n",
        "    name = input(\"Enter the employee's name (enter 'Done' to finish): \")\n",
        "\n",
        "    # Check if user wants to terminate\n",
        "    if name.lower() == 'done':\n",
        "        break\n",
        "\n",
        "    hoursWorked = float(input(\"Enter number of hours worked? \"))\n",
        "    payRate = float(input(\"Enter the employee's pay rate? \"))\n",
        "\n",
        "\n",
        "    if hoursWorked > 40:\n",
        "        # Calculate overtime\n",
        "        ovtHours = hoursWorked - 40\n",
        "        # Calculate overtime pay\n",
        "        ovtPay = ovtHours * (payRate * 1.5)\n",
        "        # Calculate pay for regular hours\n",
        "        regPay = 40 * payRate\n",
        "        # Calculate gross pay\n",
        "        grossPay = regPay + ovtPay\n",
        "    else:\n",
        "        ovtHours = 0\n",
        "        ovtPay = 0\n",
        "        regPay = payRate * hoursWorked\n",
        "        grossPay = regPay\n",
        "\n",
        "    # Accumulate totals\n",
        "    totalOvertime += ovtPay\n",
        "    totalRegularPay += regPay\n",
        "    totalGrossPay += grossPay\n",
        "    employeeCount += 1\n",
        "\n",
        "    # Print employee pay details\n",
        "    print(\"-\" * 37)\n",
        "    print(\"Employee name: \", name, \"\\n\")\n",
        "    print(f'{\"Hours Worked\":<15}{\"Pay Rate\":<12}{\"OverTime\":<12}{\"OverTime Pay\":<20}{\"RegHour Pay\":<20}{\"Gross Pay\"}')\n",
        "    print(\"-\" * 100)\n",
        "    print(f'{hoursWorked:<15}{payRate:<12}{ovtHours:<12}{ovtPay:<20.2f}{\"$\"}{regPay:<20.2f}{\"$\"}{grossPay:.2f}')\n",
        "    print(\"-\" * 100)\n",
        "\n",
        "# Print totals and summary\n",
        "print(f\"Number of employees: {employeeCount}\")\n",
        "print(f\"Total overtime paid: ${totalOvertime:.2f}\")\n",
        "print(f\"Total regular pay: ${totalRegularPay:.2f}\")\n",
        "print(f\"Total gross pay: ${totalGrossPay:.2f}\")\n"
      ]
    }
  ]
}