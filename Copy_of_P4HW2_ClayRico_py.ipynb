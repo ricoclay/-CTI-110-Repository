{
  "nbformat": 4,
  "nbformat_minor": 0,
  "metadata": {
    "colab": {
      "provenance": [],
      "authorship_tag": "ABX9TyPF0pyQth7pwC8/HJcpW9Ey",
      "include_colab_link": true
    },
    "kernelspec": {
      "name": "python3",
      "display_name": "Python 3"
    },
    "language_info": {
      "name": "python"
    }
  },
  "cells": [
    {
      "cell_type": "markdown",
      "metadata": {
        "id": "view-in-github",
        "colab_type": "text"
      },
      "source": [
        "<a href=\"https://colab.research.google.com/github/ricoclay/-CTI-110-Repository/blob/main/Copy_of_P4HW2_ClayRico_py.ipynb\" target=\"_parent\"><img src=\"https://colab.research.google.com/assets/colab-badge.svg\" alt=\"Open In Colab\"/></a>"
      ]
    },
    {
      "cell_type": "code",
      "execution_count": null,
      "metadata": {
        "id": "gS5woRTP6Bnw"
      },
      "outputs": [],
      "source": [
        "Rico Clay\n",
        "# 03-28-2025\n",
        "# P4HW2\n",
        "# For assignment P4HW2, you will build on P3HW2 assignment. The program however will calculate gross pay for multiple employees, determined by user, and also calculates total amount paid for overtime, total amount paid for regular pay and total amount paid for all employees\n",
        "\n",
        "\n",
        "'''\n",
        "Asks the user employee name\n",
        "Enter user pay rate and hours worked\n",
        "Calculate overpay and regular pay. Store these values in variables, at the end of the program you will display overtime total, regular pay total, gross pay total, and number of employees entered\n",
        "Ask user to enter another employee's name to calculate salary for or \"Done\" to terminate program. Note we are using sentinels here.\n",
        "When user chooses to stop entering employee information , display results as shown in image below.\n",
        "THE PROGRAM ONLY TERMINATES IF THE USER ENTERS \"Done\" for employee name\n",
        "'''\n",
        "\n",
        "\n",
        "total_employees = 0\n",
        "total_overtime_pay = 0\n",
        "total_regular_pay = 0\n",
        "total_gross_pay = 0\n",
        "\n",
        "while True:\n",
        "  print()\n",
        "  name = input(\"Enter employee's name (or 'done' to quit): \")\n",
        "  if name.lower() == 'done':\n",
        "    print()\n",
        "    break  # Exit the loop if user enters 'done'\n",
        "\n",
        "  hrs_work = float(input('Enter numbers of hours worked: '))\n",
        "  rate = float(input(\"Enter employee's pay rate : \"))\n",
        "\n",
        "  if hrs_work > 40:\n",
        "    ot_hrs = hrs_work - 40\n",
        "    ot_pay = ot_hrs * rate * 1.5\n",
        "    reg_hrs = 40\n",
        "    reg_pay = reg_hrs * rate\n",
        "  else:\n",
        "    ot_hrs = 0\n",
        "    ot_pay = 0\n",
        "    reg_hours = hrs_work\n",
        "    reg_pay = hrs_work * rate\n",
        "\n",
        "  total_employees += 1\n",
        "  total_overtime_pay += ot_pay\n",
        "  total_regular_pay += reg_pay\n",
        "  total_gross_pay += (ot_pay + reg_pay)\n",
        "\n",
        "  print('-------------------------------------')\n",
        "  print(f\"{'Employee name:':<16} {name}\")\n",
        "  print()\n",
        "  print(f\"{'Hours Worked':<14} {'Pay Rate':<12} {'OverTime':<12} {'Overtime Pay':<20} {'RegHour Pay':<20} {'Gross Pay'}\")\n",
        "  print('---------------------------------------------------------------------------------------------------')\n",
        "  print(f\"{hrs_work:<14.2f} {rate:<12.2f} {ot_hrs:<12.2f} ${ot_pay:<19.2f} ${reg_pay:<20.2f} ${(reg_pay + ot_pay):.2f}\")\n",
        "  print()\n",
        "\n",
        "print(\"Payroll Summary:\")\n",
        "print(f\"{'Total number of Employees entered:':<38} {total_employees}\")\n",
        "print(f\"{'Total amount paid for overtime:':<38} ${total_overtime_pay:.2f}\")\n",
        "print(f\"{'Total amount paid for regular hours:':<38} ${total_regular_pay:.2f}\")\n",
        "print(f\"{'Total amount paid in gross:':<38} ${total_gross_pay:.2f}\")"
      ]
    }
  ]
}