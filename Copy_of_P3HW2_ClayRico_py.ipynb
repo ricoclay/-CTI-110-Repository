{
  "nbformat": 4,
  "nbformat_minor": 0,
  "metadata": {
    "colab": {
      "provenance": [],
      "authorship_tag": "ABX9TyMdxzNcLcxPtJ1KKK6XZxpX",
      "include_colab_link": true
    },
    "kernelspec": {
      "name": "python3",
      "display_name": "Python 3"
    },
    "language_info": {
      "name": "python"
    }
  },
  "cells": [
    {
      "cell_type": "markdown",
      "metadata": {
        "id": "view-in-github",
        "colab_type": "text"
      },
      "source": [
        "<a href=\"https://colab.research.google.com/github/ricoclay/-CTI-110-Repository/blob/main/Copy_of_P3HW2_ClayRico_py.ipynb\" target=\"_parent\"><img src=\"https://colab.research.google.com/assets/colab-badge.svg\" alt=\"Open In Colab\"/></a>"
      ]
    },
    {
      "cell_type": "code",
      "execution_count": null,
      "metadata": {
        "colab": {
          "base_uri": "https://localhost:8080/"
        },
        "id": "vREKPnVqqtGH",
        "outputId": "c4424a7c-90ec-4adb-c0c1-88da833c347d"
      },
      "outputs": [
        {
          "output_type": "stream",
          "name": "stdout",
          "text": [
            "\n",
            "Enter employee's name: John Smith\n",
            "Enter numbers of hours worked: 45\n",
            "Enter employee's pay rate : 17.5\n",
            "-------------------------------------\n",
            "Employee name:   John Smith\n",
            "\n",
            "Hours Worked   Pay Rate     OverTime     Overtime Pay         RegHour Pay          Gross Pay\n",
            "---------------------------------------------------------------------------------------------------\n",
            "45.00          17.50        5.00         $131.25              $700.00              $831.25\n",
            "\n"
          ]
        }
      ],
      "source": [
        "# Rico Clay\n",
        "# 03-10-2025\n",
        "# P3HW2\n",
        "\n",
        "# Assignment assess student understanding of decision structures\n",
        "\n",
        "\n",
        "# You are to create a program that does the following:\n",
        "# Asks the user to enter name of employee\n",
        "# Ask user to enter number of hours the employee worked this week\n",
        "# Ask user to enter employee's pay rate\n",
        "# Evaluate if employee has worked overtime (more than 40 hours). If yes, calculate the amount owed to employee for overtime hours\n",
        "# Calculate amount employee should be paid for regular hours worked.\n",
        "# Display gross pay (total amount that should be paid to employee)\n",
        "# The program is to display the following (Employee name, pay rate, number of hours worked, overtime hours, overtime pay, pay for regular hours and gross pay).\n",
        "\n",
        "print()\n",
        "name = input(\"Enter employee's name: \")\n",
        "hrs_work = float(input('Enter numbers of hours worked: '))\n",
        "rate = float(input(\"Enter employee's pay rate : \"))\n",
        "\n",
        "# Over Work\n",
        "if hrs_work > 40:\n",
        "    ot_hrs = hrs_work - 40\n",
        "    ot_pay = ot_hrs * rate * 1.5\n",
        "    reg_hrs = 40\n",
        "    reg_pay = reg_hrs * rate\n",
        "# No Over Work\n",
        "else:\n",
        "    ot_hrs = 0\n",
        "    ot_pay = 0\n",
        "    reg_hours = hrs_work\n",
        "    reg_pay = hrs_work * rate\n",
        "\n",
        "print('-------------------------------------')\n",
        "print(f\"{'Employee name:':<16} {name}\")\n",
        "print()\n",
        "print(f\"{'Hours Worked':<14} {'Pay Rate':<12} {'OverTime':<12} {'Overtime Pay':<20} {'RegHour Pay':<20} {'Gross Pay'}\")\n",
        "print('---------------------------------------------------------------------------------------------------')\n",
        "print(f\"{hrs_work:<14.2f} {rate:<12.2f} {ot_hrs:<12.2f} ${ot_pay:<19.2f} ${reg_pay:<19.2f} ${(reg_pay + ot_pay):.2f}\")\n",
        "print()\n",
        "\n"
      ]
    }
  ]
}