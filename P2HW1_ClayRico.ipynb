{
  "nbformat": 4,
  "nbformat_minor": 0,
  "metadata": {
    "colab": {
      "provenance": [],
      "authorship_tag": "ABX9TyPW2rAP7C6dXi8/hvcHzr1G",
      "include_colab_link": true
    },
    "kernelspec": {
      "name": "python3",
      "display_name": "Python 3"
    },
    "language_info": {
      "name": "python"
    }
  },
  "cells": [
    {
      "cell_type": "markdown",
      "metadata": {
        "id": "view-in-github",
        "colab_type": "text"
      },
      "source": [
        "<a href=\"https://colab.research.google.com/github/ricoclay/-CTI-110-Repository/blob/main/P2HW1_ClayRico.ipynb\" target=\"_parent\"><img src=\"https://colab.research.google.com/assets/colab-badge.svg\" alt=\"Open In Colab\"/></a>"
      ]
    },
    {
      "cell_type": "code",
      "execution_count": null,
      "metadata": {
        "colab": {
          "base_uri": "https://localhost:8080/"
        },
        "id": "qal6EKj3HMfI",
        "outputId": "bf72cacb-89af-4fce-daf0-0b9a2f985b15"
      },
      "outputs": [
        {
          "output_type": "stream",
          "name": "stdout",
          "text": [
            "This program calulates and displays travel expenses\n",
            "\n",
            "Last, how much do you need for food?  250\n",
            "\n",
            "-------Travel Expenses----------------\n",
            "\n",
            "destination:      New York City            \n",
            "budget:           $2000.00                  \n",
            "gas:              $450.00                   \n",
            "accomodations:    $600.00                   \n",
            "food:             $250.00                   \n",
            "----------------------------------------\n",
            "Remaining Balance $700.00\n"
          ]
        }
      ],
      "source": [
        "# 02/12/2025\n",
        "# P2HW1\n",
        "# A program that calulates and displays travel expenses\n",
        "\n",
        "print(\"This program calulates and displays travel expenses\")\n",
        "print()\n",
        "\n",
        "# This section of the program allows the user to put in information that will be calulated later\n",
        "# for example gas/food/accomodations\n",
        "\n",
        "budget = float(input(\"Enter your budget:  \"))\n",
        "\n",
        "destination = input(\"Enter your travel destination:  \")\n",
        "\n",
        "gas = float(input(\"How much do you think you will spend on gas?  \"))\n",
        "\n",
        "accomodations = float(input(\"Approximately, how much will you need for accomodation/hotel?  \"))\n",
        "\n",
        "food = float(input(\"Last, how much do you need for food?  \"))\n",
        "\n",
        "\n",
        "# Travel Expenses section. all the data above will be calulated and you'll receive your budget plan\n",
        "\n",
        "print()\n",
        "print(\"-------Travel Expenses----------------\")\n",
        "print()\n",
        "\n",
        "# Printing the expenses but making it look pretty\n",
        "\n",
        "print(f\"{'destination:':<18}{destination:<25}\")\n",
        "print(f\"{'budget:':<18}${budget:<25.2f}\")\n",
        "print(f\"{'gas:':<18}${gas:<25.2f}\")\n",
        "print(f\"{'accomodations:':<18}${accomodations:<25,.2f}\")\n",
        "print(f\"{'food:':<18}${food:<25,.2f}\")\n",
        "\n",
        "print(\"--\" * 20)\n",
        "\n",
        "\n",
        "\n",
        "\n",
        "# Your balance that remains\n",
        "\n",
        "print (f\"Remaining Balance ${budget-gas-accomodations-food:.2f}\")"
      ]
    }
  ]
}