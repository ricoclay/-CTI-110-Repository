{
  "nbformat": 4,
  "nbformat_minor": 0,
  "metadata": {
    "colab": {
      "provenance": [],
      "authorship_tag": "ABX9TyMjK6cGMBCAluZYjTd5/LkH",
      "include_colab_link": true
    },
    "kernelspec": {
      "name": "python3",
      "display_name": "Python 3"
    },
    "language_info": {
      "name": "python"
    }
  },
  "cells": [
    {
      "cell_type": "markdown",
      "metadata": {
        "id": "view-in-github",
        "colab_type": "text"
      },
      "source": [
        "<a href=\"https://colab.research.google.com/github/ricoclay/-CTI-110-Repository/blob/main/P2HW2_ClayRico_py.ipynb\" target=\"_parent\"><img src=\"https://colab.research.google.com/assets/colab-badge.svg\" alt=\"Open In Colab\"/></a>"
      ]
    },
    {
      "cell_type": "code",
      "execution_count": 2,
      "metadata": {
        "id": "FLEUWMZWuxyA",
        "colab": {
          "base_uri": "https://localhost:8080/",
          "height": 349
        },
        "outputId": "997bd0fb-a360-4e65-a8b1-3f3ebb459c55"
      },
      "outputs": [
        {
          "output_type": "stream",
          "name": "stdout",
          "text": [
            "Enter grade for Module 1: 55\n",
            "Enter grade for Module 2: 55\n",
            "Enter grade for Module 3: 55\n",
            "Enter grade for Module 4: 4\n",
            "Enter grade for Module 5: 1\n",
            "Enter grade for Module 6: 25\n",
            "\n",
            "----------Results----------\n"
          ]
        },
        {
          "output_type": "error",
          "ename": "TypeError",
          "evalue": "'NoneType' object is not callable",
          "traceback": [
            "\u001b[0;31m---------------------------------------------------------------------------\u001b[0m",
            "\u001b[0;31mTypeError\u001b[0m                                 Traceback (most recent call last)",
            "\u001b[0;32m<ipython-input-2-d30f828a1661>\u001b[0m in \u001b[0;36m<cell line: 0>\u001b[0;34m()\u001b[0m\n\u001b[1;32m     20\u001b[0m \u001b[0;34m\u001b[0m\u001b[0m\n\u001b[1;32m     21\u001b[0m \u001b[0;31m# Add variables to the list()\u001b[0m\u001b[0;34m\u001b[0m\u001b[0;34m\u001b[0m\u001b[0m\n\u001b[0;32m---> 22\u001b[0;31m \u001b[0mGradesForModules\u001b[0m\u001b[0;34m.\u001b[0m\u001b[0mappend\u001b[0m\u001b[0;34m(\u001b[0m\u001b[0mModule2\u001b[0m\u001b[0;34m)\u001b[0m\u001b[0;34m(\u001b[0m\u001b[0mModule3\u001b[0m\u001b[0;34m)\u001b[0m\u001b[0;34m\u001b[0m\u001b[0;34m\u001b[0m\u001b[0m\n\u001b[0m\u001b[1;32m     23\u001b[0m \u001b[0mGradesForModules\u001b[0m\u001b[0;34m.\u001b[0m\u001b[0mappend\u001b[0m\u001b[0;34m(\u001b[0m\u001b[0mModule3\u001b[0m\u001b[0;34m)\u001b[0m\u001b[0;34m\u001b[0m\u001b[0;34m\u001b[0m\u001b[0m\n\u001b[1;32m     24\u001b[0m \u001b[0mGradesForModules\u001b[0m\u001b[0;34m.\u001b[0m\u001b[0mappend\u001b[0m\u001b[0;34m(\u001b[0m\u001b[0mModule4\u001b[0m\u001b[0;34m)\u001b[0m\u001b[0;34m\u001b[0m\u001b[0;34m\u001b[0m\u001b[0m\n",
            "\u001b[0;31mTypeError\u001b[0m: 'NoneType' object is not callable"
          ]
        }
      ],
      "source": [
        "# Rico Clay\n",
        "# 02/12/2025\n",
        "# P2HW2\n",
        "# Use list to capture student grades\n",
        "\n",
        "# User puts their grades into a variable\n",
        "Module1 = float(input(\"Enter grade for Module 1: \"))\n",
        "Module2 = float(input(\"Enter grade for Module 2: \"))\n",
        "Module3 = float(input(\"Enter grade for Module 3: \"))\n",
        "Module4 = float(input(\"Enter grade for Module 4: \"))\n",
        "Module5 = float(input(\"Enter grade for Module 5: \"))\n",
        "Module6 = float(input(\"Enter grade for Module 6: \"))\n",
        "\n",
        "print()\n",
        "\n",
        "print(\"----------Results----------\")\n",
        "\n",
        "# Creates a list\n",
        "GradesForModules = []\n",
        "\n",
        "# Add variables to the list()\n",
        "GradesForModules.append(Module2)\n",
        "GradesForModules.append(Module3)\n",
        "GradesForModules.append(Module4)\n",
        "GradesForModules.append(Module5)\n",
        "GradesForModules.append(Module6)\n",
        "\n",
        "# Displays Lowest Grade\n",
        "print(f\"{'Lowest Grade:':<20}{min(GradesForModules)}\")\n",
        "\n",
        "# Displays Highest Grade\n",
        "print(f\"{'Highest Grade:':<20}{max(GradesForModules)}\")\n",
        "\n",
        "# Displays Sum of Grades\n",
        "print(f\"{'Sum of Grades:':<20}{sum(GradesForModules)}\")\n",
        "\n",
        "# Displays the average\n",
        "Average = sum(GradesForModules)/len(GradesForModules)\n",
        "print(f\"{'Average:':<20}{Average:.2f}\")\n",
        "\n",
        "# Formatting\n",
        "print(\"-\" * 27)"
      ]
    }
  ]
}