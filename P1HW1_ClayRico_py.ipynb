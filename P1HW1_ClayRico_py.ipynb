{
  "nbformat": 4,
  "nbformat_minor": 0,
  "metadata": {
    "colab": {
      "provenance": [],
      "authorship_tag": "ABX9TyP//rPlNOn68gVxL8u02M25",
      "include_colab_link": true
    },
    "kernelspec": {
      "name": "python3",
      "display_name": "Python 3"
    },
    "language_info": {
      "name": "python"
    }
  },
  "cells": [
    {
      "cell_type": "markdown",
      "metadata": {
        "id": "view-in-github",
        "colab_type": "text"
      },
      "source": [
        "<a href=\"https://colab.research.google.com/github/ricoclay/-CTI-110-Repository/blob/main/P1HW1_ClayRico_py.ipynb\" target=\"_parent\"><img src=\"https://colab.research.google.com/assets/colab-badge.svg\" alt=\"Open In Colab\"/></a>"
      ]
    },
    {
      "cell_type": "code",
      "execution_count": 1,
      "metadata": {
        "id": "17wP_-ywgJki",
        "colab": {
          "base_uri": "https://localhost:8080/"
        },
        "outputId": "2fa36f9e-9e6d-4a00-f0be-446ca6700fea"
      },
      "outputs": [
        {
          "output_type": "stream",
          "name": "stdout",
          "text": [
            "-------Calulating Exponents-------\n",
            "\n",
            "\n",
            "Enter an integer as the base value: 7\n",
            "Enter an interger as the exponent: 3\n",
            "\n",
            "\n",
            "7 raised to the power of 3 is 343 !!\n",
            "\n",
            "\n",
            "-------Addition and Subtraction-------\n",
            "\n",
            "\n",
            "Enter a starting integer:  10\n",
            "Enter an integer to add:  6\n",
            "Enter an integer to subtract:  4\n",
            "\n",
            "\n",
            "10 + 6 - 4 is equal to 12\n"
          ]
        }
      ],
      "source": [
        "# Rico Clay\n",
        "# 02/12/2025\n",
        "# P1HW1\n",
        "# Using math expressions with user input\n",
        "\n",
        "print(\"-------Calulating Exponents-------\")\n",
        "\n",
        "print()\n",
        "print()\n",
        "\n",
        "#get integer from the string\n",
        "base_value = int (input(\"Enter an integer as the base value: \"))\n",
        "exponent = int (input(\"Enter an interger as the exponent: \"))\n",
        "\n",
        "print()\n",
        "print()\n",
        "\n",
        "# Display math result to the user\n",
        "print(base_value, \"raised to the power of\", exponent, \"is\", base_value**exponent, \"!!\")\n",
        "\n",
        "print()\n",
        "print()\n",
        "\n",
        "#Addition and Subtraction Section\n",
        "print(\"-------Addition and Subtraction-------\")\n",
        "print()\n",
        "print()\n",
        "\n",
        "#Enter a starting integer\n",
        "starting = int (input(\"Enter a starting integer:  \"))\n",
        "\n",
        "#Enter an integer to add\n",
        "add = int (input(\"Enter an integer to add:  \"))\n",
        "\n",
        "#Enter an integer to subtract\n",
        "subtract = int (input(\"Enter an integer to subtract:  \"))\n",
        "\n",
        "print()\n",
        "print()\n",
        "\n",
        "#Display math result to user\n",
        "print(starting, \"+\", add, \"-\", subtract, \"is equal to\", starting + add - subtract)\n",
        "\n",
        "\n"
      ]
    },
    {
      "cell_type": "code",
      "execution_count": null,
      "metadata": {
        "colab": {
          "base_uri": "https://localhost:8080/",
          "height": 263
        },
        "outputId": "1639fb35-392a-4f1e-c64f-2563b6e739f2",
        "id": "vDPtZHLflZ3E"
      },
      "outputs": [
        {
          "output_type": "stream",
          "name": "stdout",
          "text": [
            "Enter the customer name: Rico Clay\n",
            "Enter the customer address: 1121 Street\n",
            "Opening new bank account for Rico Clay\n"
          ]
        },
        {
          "output_type": "error",
          "ename": "NameError",
          "evalue": "name 'cust_address' is not defined",
          "traceback": [
            "\u001b[0;31m---------------------------------------------------------------------------\u001b[0m",
            "\u001b[0;31mNameError\u001b[0m                                 Traceback (most recent call last)",
            "\u001b[0;32m<ipython-input-2-272125e03913>\u001b[0m in \u001b[0;36m<cell line: 0>\u001b[0;34m()\u001b[0m\n\u001b[1;32m      5\u001b[0m \u001b[0;31m#Display infor to user\u001b[0m\u001b[0;34m\u001b[0m\u001b[0;34m\u001b[0m\u001b[0m\n\u001b[1;32m      6\u001b[0m \u001b[0mprint\u001b[0m\u001b[0;34m(\u001b[0m\u001b[0;34m\"Opening new bank account for\"\u001b[0m\u001b[0;34m,\u001b[0m \u001b[0mcust_name\u001b[0m\u001b[0;34m)\u001b[0m\u001b[0;34m\u001b[0m\u001b[0;34m\u001b[0m\u001b[0m\n\u001b[0;32m----> 7\u001b[0;31m \u001b[0mprint\u001b[0m\u001b[0;34m(\u001b[0m\u001b[0;34m\"Address:\"\u001b[0m\u001b[0;34m,\u001b[0m \u001b[0mcust_address\u001b[0m\u001b[0;34m)\u001b[0m\u001b[0;34m\u001b[0m\u001b[0;34m\u001b[0m\u001b[0m\n\u001b[0m\u001b[1;32m      8\u001b[0m \u001b[0;34m\u001b[0m\u001b[0m\n\u001b[1;32m      9\u001b[0m \u001b[0;31m# Create variable to represent bank account balance\u001b[0m\u001b[0;34m\u001b[0m\u001b[0;34m\u001b[0m\u001b[0m\n",
            "\u001b[0;31mNameError\u001b[0m: name 'cust_address' is not defined"
          ]
        }
      ],
      "source": [
        "# Get name and address from user\n",
        "cust_name = input(\"Enter the customer name: \")\n",
        "cust_addree = input(\"Enter the customer address: \")\n",
        "\n",
        "#Display infor to user\n",
        "print(\"Opening new bank account for\", cust_name)\n",
        "print(\"Address:\", cust_address)\n",
        "\n",
        "# Create variable to represent bank account balance\n",
        "money = 0\n",
        "\n",
        "\n",
        "# Add initial deposit\n",
        "cust_initial_deposit = float(input(\"Enter ammount of initial deposit: \"))\n",
        "print(\"The bank will double the initial deposit\")\n",
        "\n"
      ]
    }
  ]
}