{
  "nbformat": 4,
  "nbformat_minor": 0,
  "metadata": {
    "colab": {
      "provenance": [],
      "authorship_tag": "ABX9TyNa35L8Ysq+nEbhTMnUBLSv",
      "include_colab_link": true
    },
    "kernelspec": {
      "name": "python3",
      "display_name": "Python 3"
    },
    "language_info": {
      "name": "python"
    }
  },
  "cells": [
    {
      "cell_type": "markdown",
      "metadata": {
        "id": "view-in-github",
        "colab_type": "text"
      },
      "source": [
        "<a href=\"https://colab.research.google.com/github/ricoclay/-CTI-110-Repository/blob/main/P3LAB_ClayRico_py.ipynb\" target=\"_parent\"><img src=\"https://colab.research.google.com/assets/colab-badge.svg\" alt=\"Open In Colab\"/></a>"
      ]
    },
    {
      "cell_type": "code",
      "execution_count": 6,
      "metadata": {
        "colab": {
          "base_uri": "https://localhost:8080/"
        },
        "id": "FeMAkhx9EVvB",
        "outputId": "d92aae2e-7ff5-42fc-973e-f7ab2d07d33e"
      },
      "outputs": [
        {
          "output_type": "stream",
          "name": "stdout",
          "text": [
            "Enter the money as a float:\n",
            "52.22\n",
            "\n",
            "This is how many dollars and coins you need to equal this number.\n",
            "Using the least amount of coins and bills.\n",
            "52 Dollars\n",
            "2 Dimes\n",
            "2 Pennies\n"
          ]
        }
      ],
      "source": [
        "# Rico Clay\n",
        "# 03-03-2025\n",
        "# P3LAB\n",
        "# Write a program with if/else statments to determine coin combination.\n",
        "# Calculate the most efficient number of dollars, quarters, dimes, nickels, and pennies needed to make the given amount of money. Hint: You will use the // operator and subtraction for the logic.\n",
        "\n",
        "\n",
        "amount_input = float(input('Enter the money as a float:\\n'))\n",
        "\n",
        "# Convert to integer cents\n",
        "cents = round(amount_input * 100)\n",
        "amount_input = cents\n",
        "\n",
        "# Calaculate numbers to meet the amount\n",
        "dollars = amount_input // 100\n",
        "quarters = amount_input % 100 // 25\n",
        "dimes = amount_input % 100 % 25 // 10\n",
        "nickels = amount_input % 100 % 25 % 10 // 5\n",
        "pennies = amount_input % 100 % 25 % 10 % 5 // 1\n",
        "print()\n",
        "print('This is how many dollars and coins you need to equal this number.')\n",
        "print('Using the least amount of coins and bills.')\n",
        "if amount_input <= 0:\n",
        "    print(\"No change\")\n",
        "\n",
        "if dollars > 1:\n",
        "    print(str(dollars) + \" Dollars\")\n",
        "elif dollars == 1:\n",
        "    print(str(dollars) + \" Dollar\")\n",
        "else:\n",
        "    pass\n",
        "if quarters > 1:\n",
        "    print(str(quarters) + \" Quarters\")\n",
        "elif quarters == 1:\n",
        "    print(str(quarters) + \" Quarter\")\n",
        "else:\n",
        "    pass\n",
        "if dimes > 1:\n",
        "    print(str(dimes) + \" Dimes\")\n",
        "elif dimes == 1:\n",
        "    print(str(dimes) + \" Dime\")\n",
        "else:\n",
        "    pass\n",
        "if nickels > 1:\n",
        "    print(str(nickels) + \" Nickels\")\n",
        "elif nickels == 1:\n",
        "    print(str(nickels) + \" Nickel\")\n",
        "else:\n",
        "    pass\n",
        "if pennies > 1:\n",
        "    print(str(pennies) + \" Pennies\")\n",
        "elif pennies == 1:\n",
        "    print(str(pennies) + \" Penny\")"
      ]
    }
  ]
}