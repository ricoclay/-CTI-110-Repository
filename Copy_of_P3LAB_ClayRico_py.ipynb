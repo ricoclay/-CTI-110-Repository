{
  "nbformat": 4,
  "nbformat_minor": 0,
  "metadata": {
    "colab": {
      "provenance": [],
      "authorship_tag": "ABX9TyP3iqCnI9DUpz2Z6GDpgdlG",
      "include_colab_link": true
    },
    "kernelspec": {
      "name": "python3",
      "display_name": "Python 3"
    },
    "language_info": {
      "name": "python"
    }
  },
  "cells": [
    {
      "cell_type": "markdown",
      "metadata": {
        "id": "view-in-github",
        "colab_type": "text"
      },
      "source": [
        "<a href=\"https://colab.research.google.com/github/ricoclay/-CTI-110-Repository/blob/main/Copy_of_P3LAB_ClayRico_py.ipynb\" target=\"_parent\"><img src=\"https://colab.research.google.com/assets/colab-badge.svg\" alt=\"Open In Colab\"/></a>"
      ]
    },
    {
      "cell_type": "code",
      "execution_count": null,
      "metadata": {
        "id": "uwVxAny4p7yR"
      },
      "outputs": [],
      "source": [
        "# Rico Clay\n",
        "# 02/24/2025\n",
        "# P3LAB\n",
        "# Write a program that takes in a year and determines whether that year is a leap year\n",
        "\n",
        "\n",
        "\n",
        "\n",
        "year = int(input('Give a year:\\n'))\n",
        "if (year % 400 == 0) and (year % 100 == 0):\n",
        "    print(\"{0} - leap year\".format(year))\n",
        "elif (year % 4 ==0) and (year % 100 != 0):\n",
        "    print(\"{0} - leap year\".format(year))\n",
        "else:\n",
        "    print(\"{0} - not a leap year\".format(year))"
      ]
    }
  ]
}