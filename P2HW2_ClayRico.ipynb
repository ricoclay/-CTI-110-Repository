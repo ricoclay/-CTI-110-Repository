{
  "nbformat": 4,
  "nbformat_minor": 0,
  "metadata": {
    "colab": {
      "provenance": [],
      "authorship_tag": "ABX9TyPrJc4AN96hgSgVXgDQQzim",
      "include_colab_link": true
    },
    "kernelspec": {
      "name": "python3",
      "display_name": "Python 3"
    },
    "language_info": {
      "name": "python"
    }
  },
  "cells": [
    {
      "cell_type": "markdown",
      "metadata": {
        "id": "view-in-github",
        "colab_type": "text"
      },
      "source": [
        "<a href=\"https://colab.research.google.com/github/ricoclay/-CTI-110-Repository/blob/main/P2HW2_ClayRico.ipynb\" target=\"_parent\"><img src=\"https://colab.research.google.com/assets/colab-badge.svg\" alt=\"Open In Colab\"/></a>"
      ]
    },
    {
      "cell_type": "code",
      "execution_count": null,
      "metadata": {
        "colab": {
          "base_uri": "https://localhost:8080/"
        },
        "id": "QpQQ9TqgE0mA",
        "outputId": "2ab7f2b8-7948-4d50-c21f-5d5d98877134"
      },
      "outputs": [
        {
          "output_type": "stream",
          "name": "stdout",
          "text": [
            "Enter grade for Module 1: 65.5\n",
            "Enter grade for Module 2: 88\n",
            "Enter grade for Module 3: 78.5\n",
            "Enter grade for Module 4: 90\n",
            "Enter grade for Module 5: 61\n",
            "Enter grade for Module 6: 92\n",
            "\n",
            "----------Results----------\n",
            "Lowest Grade:       61.0\n",
            "Highest Grade:      92.0\n",
            "Sum of Grades:      475.0\n",
            "Average:            79.17\n",
            "---------------------------\n"
          ]
        }
      ],
      "source": [
        "# Rico Clay\n",
        "# 02/12/2025\n",
        "# P2HW2\n",
        "# User enters values into a list and we will do math with those values\n",
        "\n",
        "\n",
        "# User puts their grades into a variable\n",
        "\n",
        "Module1 = float(input(\"Enter grade for Module 1: \"))\n",
        "Module2 = float(input(\"Enter grade for Module 2: \"))\n",
        "Module3 = float(input(\"Enter grade for Module 3: \"))\n",
        "Module4 = float(input(\"Enter grade for Module 4: \"))\n",
        "Module5 = float(input(\"Enter grade for Module 5: \"))\n",
        "Module6 = float(input(\"Enter grade for Module 6: \"))\n",
        "\n",
        "print()\n",
        "\n",
        "print(\"----------Results----------\")\n",
        "\n",
        "# Creates a list\n",
        "GradesForModules = []\n",
        "\n",
        "# Add variables to the list\n",
        "GradesForModules.append(Module1)\n",
        "GradesForModules.append(Module2)\n",
        "GradesForModules.append(Module3)\n",
        "GradesForModules.append(Module4)\n",
        "GradesForModules.append(Module5)\n",
        "GradesForModules.append(Module6)\n",
        "\n",
        "# Displays Lowest Grade\n",
        "print(f\"{'Lowest Grade:':<20}{min(GradesForModules)}\")\n",
        "\n",
        "# Displays Highest Grade\n",
        "print(f\"{'Highest Grade:':<20}{max(GradesForModules)}\")\n",
        "\n",
        "# Displays Sum of Grades\n",
        "print(f\"{'Sum of Grades:':<20}{sum(GradesForModules)}\")\n",
        "\n",
        "# Displays the average\n",
        "Average = sum(GradesForModules)/len(GradesForModules)\n",
        "print(f\"{'Average:':<20}{Average:.2f}\")\n",
        "\n",
        "# Formatting\n",
        "print(\"-\" * 27)"
      ]
    }
  ]
}