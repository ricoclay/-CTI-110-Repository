{
  "nbformat": 4,
  "nbformat_minor": 0,
  "metadata": {
    "colab": {
      "provenance": [],
      "authorship_tag": "ABX9TyO0MBdaLNwIPKCDhnn6xdHL",
      "include_colab_link": true
    },
    "kernelspec": {
      "name": "python3",
      "display_name": "Python 3"
    },
    "language_info": {
      "name": "python"
    }
  },
  "cells": [
    {
      "cell_type": "markdown",
      "metadata": {
        "id": "view-in-github",
        "colab_type": "text"
      },
      "source": [
        "<a href=\"https://colab.research.google.com/github/ricoclay/-CTI-110-Repository/blob/main/P2LAB1_ClayRico.ipynb\" target=\"_parent\"><img src=\"https://colab.research.google.com/assets/colab-badge.svg\" alt=\"Open In Colab\"/></a>"
      ]
    },
    {
      "cell_type": "code",
      "execution_count": null,
      "metadata": {
        "id": "FLEUWMZWuxyA"
      },
      "outputs": [],
      "source": [
        "# Rico Clay\n",
        "# 02/12/2025\n",
        "# P2LAB1\n",
        "# Using imported libary, math, and f-string\n",
        "\n",
        "import math\n",
        "\n",
        "# Get Radius from user\n",
        "\n",
        "radius = float(input(\"What is the radius of the circle? \"))\n",
        "print(\"------------------------------------------------------------------------------\")\n",
        "print()\n",
        "\n",
        "# Caluclate diameter\n",
        "diameter = 2 * radius\n",
        "\n",
        "# Display diameter with one decimal place\n",
        "print(f\"The diameter of the circle is {diameter:.1f}\\n\")\n",
        "\n",
        "# Calulate the Circumference\n",
        "pi = math.pi\n",
        "Circumference = 2 * pi * radius\n",
        "print(f\"The circumference of the circle is {Circumference:.2f}\\n\")\n",
        "\n",
        "# Calulate the area\n",
        "area = pi * radius**2\n",
        "print (f\"The area of the circle is {area:.3f}\")"
      ]
    }
  ]
}