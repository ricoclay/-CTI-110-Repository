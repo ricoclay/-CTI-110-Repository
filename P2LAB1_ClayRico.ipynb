{
  "nbformat": 4,
  "nbformat_minor": 0,
  "metadata": {
    "colab": {
      "provenance": [],
      "authorship_tag": "ABX9TyMEjC/b8CA6+y9SeE8S6fl7",
      "include_colab_link": true
    },
    "kernelspec": {
      "name": "python3",
      "display_name": "Python 3"
    },
    "language_info": {
      "name": "python"
    }
  },
  "cells": [
    {
      "cell_type": "markdown",
      "metadata": {
        "id": "view-in-github",
        "colab_type": "text"
      },
      "source": [
        "<a href=\"https://colab.research.google.com/github/ricoclay/-CTI-110-Repository/blob/main/P2LAB1_ClayRico.ipynb\" target=\"_parent\"><img src=\"https://colab.research.google.com/assets/colab-badge.svg\" alt=\"Open In Colab\"/></a>"
      ]
    },
    {
      "cell_type": "code",
      "execution_count": null,
      "metadata": {
        "colab": {
          "base_uri": "https://localhost:8080/"
        },
        "id": "qWbStbRBx4y_",
        "outputId": "ca43f99e-979e-4db1-a157-840161773672"
      },
      "outputs": [
        {
          "output_type": "stream",
          "name": "stdout",
          "text": [
            "What is the radius of the circle? 8.78\n",
            "------------------------------------------------------------------------------\n",
            "\n",
            "The diameter of the circle is 17.6\n",
            "\n",
            "The circumference of the circle is 55.17\n",
            "\n",
            "The area of the circle is 242.180\n"
          ]
        }
      ],
      "source": [
        "# Rico Clay\n",
        "# 02/12/2025\n",
        "# P2LAB1\n",
        "# Using imported libary, math, and f-string\n",
        "\n",
        "import math\n",
        "\n",
        "# Get Radius from user\n",
        "\n",
        "radius = float(input(\"What is the radius of the circle? \"))\n",
        "print(\"------------------------------------------------------------------------------\")\n",
        "print()\n",
        "\n",
        "# Caluclate diameter\n",
        "diameter = 2 * radius\n",
        "\n",
        "# Display diameter with one decimal place\n",
        "print(f\"The diameter of the circle is {diameter:.1f}\\n\")\n",
        "\n",
        "# Calulate the Circumference\n",
        "pi = math.pi\n",
        "Circumference = 2 * pi * radius\n",
        "print(f\"The circumference of the circle is {Circumference:.2f}\\n\")\n",
        "\n",
        "# Calulate the area\n",
        "area = pi * radius**2\n",
        "print (f\"The area of the circle is {area:.3f}\")\n"
      ]
    }
  ]
}