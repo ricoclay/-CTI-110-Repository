{
  "nbformat": 4,
  "nbformat_minor": 0,
  "metadata": {
    "colab": {
      "provenance": [],
      "authorship_tag": "ABX9TyNMXIqFnqcXhUClJooJ9QTT",
      "include_colab_link": true
    },
    "kernelspec": {
      "name": "python3",
      "display_name": "Python 3"
    },
    "language_info": {
      "name": "python"
    }
  },
  "cells": [
    {
      "cell_type": "markdown",
      "metadata": {
        "id": "view-in-github",
        "colab_type": "text"
      },
      "source": [
        "<a href=\"https://colab.research.google.com/github/ricoclay/-CTI-110-Repository/blob/main/Copy_of_P4LAB2_ClayRico_py.ipynb\" target=\"_parent\"><img src=\"https://colab.research.google.com/assets/colab-badge.svg\" alt=\"Open In Colab\"/></a>"
      ]
    },
    {
      "cell_type": "code",
      "execution_count": null,
      "metadata": {
        "id": "zhBYpnmA8NWP"
      },
      "outputs": [],
      "source": [
        "# Rico Clay\n",
        "# P4LAB2\n",
        "# 02-28-2025\n",
        "# Write a program whose input is two integers. Output the first integer and subsequent increments of 5 as long as the value is less than or equal to the second intege\n",
        "\n",
        "\n",
        "num1 = int(input(\"Enter a number:\"))\n",
        "num2 = int(input(\"Enter a number great than the first number:\"))\n",
        "\n",
        "\n",
        "if num1 <= num2:\n",
        "    while num1 <= num2:\n",
        "        print(num1, end=' ')\n",
        "        num1 += 5\n",
        "    print()\n",
        "else:\n",
        "    print('Second integer can\\'t be less than the first.')"
      ]
    }
  ]
}